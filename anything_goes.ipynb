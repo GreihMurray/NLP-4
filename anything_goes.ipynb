{
  "nbformat": 4,
  "nbformat_minor": 0,
  "metadata": {
    "colab": {
      "provenance": [],
      "collapsed_sections": [],
      "authorship_tag": "ABX9TyO/OQHSpdPRaWvk2dfiOPuI",
      "include_colab_link": true
    },
    "kernelspec": {
      "name": "python3",
      "display_name": "Python 3"
    },
    "language_info": {
      "name": "python"
    }
  },
  "cells": [
    {
      "cell_type": "markdown",
      "metadata": {
        "id": "view-in-github",
        "colab_type": "text"
      },
      "source": [
        "<a href=\"https://colab.research.google.com/github/GreihMurray/NLP-4/blob/master/anything_goes.ipynb\" target=\"_parent\"><img src=\"https://colab.research.google.com/assets/colab-badge.svg\" alt=\"Open In Colab\"/></a>"
      ]
    },
    {
      "cell_type": "code",
      "execution_count": 1,
      "metadata": {
        "id": "tbsVlxPxKnHT"
      },
      "outputs": [],
      "source": [
        "import numpy as np\n",
        "import pandas as pd\n",
        "from keras.utils import to_categorical\n",
        "from keras.models import Sequential\n",
        "import keras\n",
        "from keras.layers import LSTM, Dense, GRU, Embedding\n",
        "from keras.callbacks import EarlyStopping, ModelCheckpoint\n",
        "from sklearn.model_selection import train_test_split\n",
        "import tensorflow as tf\n",
        "from tqdm import tqdm\n",
        "from math import log2"
      ]
    },
    {
      "cell_type": "code",
      "source": [
        "from google.colab import drive\n",
        "\n",
        "drive.mount('/content/gdrive')"
      ],
      "metadata": {
        "colab": {
          "base_uri": "https://localhost:8080/"
        },
        "id": "yEtePjF8K85C",
        "outputId": "ff39ba61-1556-4e6f-b407-353b1d028a80"
      },
      "execution_count": 2,
      "outputs": [
        {
          "output_type": "stream",
          "name": "stdout",
          "text": [
            "Mounted at /content/gdrive\n"
          ]
        }
      ]
    },
    {
      "cell_type": "markdown",
      "source": [
        "Heavily based on https://www.analyticsvidhya.com/blog/2019/08/comprehensive-guide-language-model-nlp-python-code/#h2_7"
      ],
      "metadata": {
        "id": "Ljp9_IHfenhh"
      }
    },
    {
      "cell_type": "code",
      "source": [
        "def encode(grams, raw_data):\n",
        "    chars = sorted(list(set(raw_data)))\n",
        "    mapping = dict((c, i) for i, c in enumerate(chars))\n",
        "\n",
        "    sequences = list()\n",
        "    for line in tqdm(grams, desc='Encoding'):\n",
        "        # integer encode line\n",
        "        encoded_seq = [mapping[char] for char in line]\n",
        "        # store\n",
        "        sequences.append(encoded_seq)\n",
        "    return sequences, mapping"
      ],
      "metadata": {
        "id": "3hU8ifQOKsZ1"
      },
      "execution_count": 3,
      "outputs": []
    },
    {
      "cell_type": "markdown",
      "source": [
        "Based on code from https://www.analyticsvidhya.com/blog/2019/08/comprehensive-guide-language-model-nlp-python-code/#h2_7"
      ],
      "metadata": {
        "id": "B9gsORg7ergF"
      }
    },
    {
      "cell_type": "code",
      "source": [
        "def build_model(vocab):\n",
        "    model = Sequential()\n",
        "    model.add(Embedding(vocab, 20, input_length=GRAMS-1, trainable=True))\n",
        "    model.add(GRU(25, recurrent_dropout=0.1, dropout=0.1))\n",
        "    model.add(Dense(vocab, activation='softmax'))\n",
        "\n",
        "    model.compile(loss='categorical_crossentropy', metrics=['acc'], optimizer='adam')\n",
        "\n",
        "    return model"
      ],
      "metadata": {
        "id": "4MffHLMrKtsc"
      },
      "execution_count": 4,
      "outputs": []
    },
    {
      "cell_type": "markdown",
      "source": [
        "original"
      ],
      "metadata": {
        "id": "MxE5hjPTetSB"
      }
    },
    {
      "cell_type": "code",
      "source": [
        "def read_file(file_name):\n",
        "    f = open(file_name, \"r\")\n",
        "\n",
        "    full_text = f.read().split(\" \")\n",
        "    split_data = []\n",
        "\n",
        "    for line in full_text: #tqdm(full_text, desc='Splitting words'):\n",
        "        split_data.append(line.lower().strip())\n",
        "\n",
        "    train = ' '.join(split_data[:int(len(split_data) * 0.3)])\n",
        "    test = ' '.join(split_data[int(len(split_data) * 0.5):])\n",
        "\n",
        "    return train, test"
      ],
      "metadata": {
        "id": "cOiW3aNoK1Q_"
      },
      "execution_count": 16,
      "outputs": []
    },
    {
      "cell_type": "markdown",
      "source": [
        "original"
      ],
      "metadata": {
        "id": "8n6xm5Ezeuqu"
      }
    },
    {
      "cell_type": "code",
      "source": [
        "def read_test_data(file_name):\n",
        "    f = open(file_name, \"r\")\n",
        "\n",
        "    full_text = f.read().split(\" \")\n",
        "    split_data = []\n",
        "\n",
        "    for line in full_text: #tqdm(full_text, desc='Splitting words'):\n",
        "        split_data.append(line.lower().strip())\n",
        "\n",
        "    return ' '.join(split_data)"
      ],
      "metadata": {
        "id": "2bjtzkHoYPrg"
      },
      "execution_count": 6,
      "outputs": []
    },
    {
      "cell_type": "markdown",
      "source": [
        "original"
      ],
      "metadata": {
        "id": "zLqVB0kgev92"
      }
    },
    {
      "cell_type": "code",
      "source": [
        "def gen_n_grams(data, n=3):\n",
        "    descript = \"Generating \" + str(n) + \" Grams:\"\n",
        "\n",
        "    n_grams = [''.join(data[i:i+n]) for i in tqdm(range(len(data) - n + 1), desc=descript)]\n",
        "\n",
        "    return n_grams"
      ],
      "metadata": {
        "id": "0iqsefDGK40y"
      },
      "execution_count": 7,
      "outputs": []
    },
    {
      "cell_type": "code",
      "source": [
        "def main():\n",
        "    data, hold_out = read_file('/content/gdrive/MyDrive/Colab_Notebooks/NLP/swahili/sw-train.txt')\n",
        "\n",
        "    n_grams = gen_n_grams(data, GRAMS)\n",
        "    n_grams, mapping = encode(n_grams, data)\n",
        "\n",
        "  # Below code from https://www.analyticsvidhya.com/blog/2019/08/comprehensive-guide-language-model-nlp-python-code/#h2_7\n",
        "    vocab = len(mapping)\n",
        "    sequences = np.array(n_grams)\n",
        "    # create X and y\n",
        "    x, y = sequences[:, :-1], sequences[:, -1]\n",
        "    # one hot encode y\n",
        "    y = to_categorical(y, num_classes=vocab)\n",
        "    # create train and validation sets\n",
        "    x_tr, x_val, y_tr, y_val = train_test_split(x, y, test_size=0.1, random_state=42)\n",
        "\n",
        "    print('Train shape:', x_tr.shape, 'Val shape:', x_val.shape)\n",
        "\n",
        "    model = build_model(vocab)\n",
        "\n",
        "  # Original addition\n",
        "    stop_early = tf.keras.callbacks.EarlyStopping(monitor='val_acc', patience=5)\n",
        "\n",
        "    model.fit(x_tr, y_tr, epochs=10, verbose=1, validation_data=(x_val, y_val), callbacks=stop_early, batch_size=500)\n",
        "    model.save('/content/gdrive/MyDrive/Colab_Notebooks/NLP/swahili/sw_act_model500')\n"
      ],
      "metadata": {
        "id": "T_2m3XwmKwSm"
      },
      "execution_count": 8,
      "outputs": []
    },
    {
      "cell_type": "code",
      "source": [
        "GRAMS = 6"
      ],
      "metadata": {
        "id": "wmxZN9ZdLO5z"
      },
      "execution_count": 9,
      "outputs": []
    },
    {
      "cell_type": "code",
      "source": [
        "main()"
      ],
      "metadata": {
        "colab": {
          "base_uri": "https://localhost:8080/"
        },
        "id": "JMsCOFTvKzFn",
        "outputId": "77e28808-ce5b-4111-d8b7-2c6bd63971c4"
      },
      "execution_count": 17,
      "outputs": [
        {
          "output_type": "stream",
          "name": "stderr",
          "text": [
            "Generating 6 Grams:: 100%|██████████| 11771996/11771996 [00:09<00:00, 1228130.01it/s]\n",
            "Encoding: 100%|██████████| 11771996/11771996 [00:23<00:00, 502319.74it/s]\n"
          ]
        },
        {
          "output_type": "stream",
          "name": "stdout",
          "text": [
            "Train shape: (10594796, 5) Val shape: (1177200, 5)\n",
            "Epoch 1/10\n",
            "21190/21190 [==============================] - 377s 18ms/step - loss: 2.1038 - acc: 0.3884 - val_loss: 1.9891 - val_acc: 0.4201\n",
            "Epoch 2/10\n",
            "21190/21190 [==============================] - 370s 17ms/step - loss: 2.0255 - acc: 0.4071 - val_loss: 1.9649 - val_acc: 0.4243\n",
            "Epoch 3/10\n",
            "21190/21190 [==============================] - 368s 17ms/step - loss: 2.0131 - acc: 0.4097 - val_loss: 1.9541 - val_acc: 0.4263\n",
            "Epoch 4/10\n",
            "21190/21190 [==============================] - 364s 17ms/step - loss: 2.0070 - acc: 0.4113 - val_loss: 1.9481 - val_acc: 0.4280\n",
            "Epoch 5/10\n",
            "21190/21190 [==============================] - 366s 17ms/step - loss: 2.0029 - acc: 0.4126 - val_loss: 1.9445 - val_acc: 0.4295\n",
            "Epoch 6/10\n",
            "21190/21190 [==============================] - 367s 17ms/step - loss: 1.9994 - acc: 0.4135 - val_loss: 1.9418 - val_acc: 0.4303\n",
            "Epoch 7/10\n",
            "21190/21190 [==============================] - 367s 17ms/step - loss: 1.9966 - acc: 0.4146 - val_loss: 1.9383 - val_acc: 0.4309\n",
            "Epoch 8/10\n",
            "21190/21190 [==============================] - 365s 17ms/step - loss: 1.9941 - acc: 0.4151 - val_loss: 1.9350 - val_acc: 0.4320\n",
            "Epoch 9/10\n",
            "21190/21190 [==============================] - 367s 17ms/step - loss: 1.9922 - acc: 0.4156 - val_loss: 1.9348 - val_acc: 0.4308\n",
            "Epoch 10/10\n",
            "21190/21190 [==============================] - 365s 17ms/step - loss: 1.9905 - acc: 0.4158 - val_loss: 1.9334 - val_acc: 0.4313\n"
          ]
        }
      ]
    },
    {
      "cell_type": "markdown",
      "source": [
        "Original"
      ],
      "metadata": {
        "id": "Hi9nNZNoe4GD"
      }
    },
    {
      "cell_type": "code",
      "source": [
        "def calc_entropy(preds):\n",
        "    entropy = 0\n",
        "\n",
        "    count = 0\n",
        "    pred_len = len(preds)\n",
        "\n",
        "    for row in tqdm(preds, desc='Calculating Entropy'):\n",
        "      entropy -= (1/(pred_len)) * log2(max(row))\n",
        "\n",
        "    return entropy"
      ],
      "metadata": {
        "id": "FdaJ8Y9nb4lk"
      },
      "execution_count": 11,
      "outputs": []
    },
    {
      "cell_type": "markdown",
      "source": [
        "Original"
      ],
      "metadata": {
        "id": "qe4vrjL5e5hT"
      }
    },
    {
      "cell_type": "code",
      "source": [
        "def load_my_model():\n",
        "    model = keras.models.load_model('/content/gdrive/MyDrive/Colab_Notebooks/NLP/swahili/sw_act_model500')\n",
        "\n",
        "    data = read_test_data('/content/gdrive/MyDrive/Colab_Notebooks/NLP/swahili/sw-train.txt')\n",
        "\n",
        "    data = data[int(len(data)*0.7):]\n",
        "\n",
        "    n_grams = gen_n_grams(data, GRAMS-1)\n",
        "    n_grams, mapping = encode(n_grams, data)\n",
        "\n",
        "    vocab = len(mapping)\n",
        "    sequences = np.array(n_grams)\n",
        "\n",
        "    preds = model.predict(sequences)\n",
        "    \n",
        "    entropy = calc_entropy(preds)\n",
        "    print('\\n', entropy)\n",
        "    "
      ],
      "metadata": {
        "id": "n2e5zjJbX4Sw"
      },
      "execution_count": 12,
      "outputs": []
    },
    {
      "cell_type": "code",
      "source": [
        "load_my_model()"
      ],
      "metadata": {
        "id": "RWVPdo1DZaHx",
        "colab": {
          "base_uri": "https://localhost:8080/"
        },
        "outputId": "90f0aed2-225d-495a-c66f-faa142b73a17"
      },
      "execution_count": 18,
      "outputs": [
        {
          "output_type": "stream",
          "name": "stderr",
          "text": [
            "Generating 5 Grams:: 100%|██████████| 11778315/11778315 [00:09<00:00, 1239915.58it/s]\n",
            "Encoding: 100%|██████████| 11778315/11778315 [00:24<00:00, 485425.36it/s]\n"
          ]
        },
        {
          "output_type": "stream",
          "name": "stdout",
          "text": [
            "368073/368073 [==============================] - 877s 2ms/step\n"
          ]
        },
        {
          "output_type": "stream",
          "name": "stderr",
          "text": [
            "Calculating Entropy: 100%|██████████| 11778315/11778315 [00:58<00:00, 200654.96it/s]\n"
          ]
        },
        {
          "output_type": "stream",
          "name": "stdout",
          "text": [
            "\n",
            " 1.4849363199958634\n"
          ]
        }
      ]
    },
    {
      "cell_type": "code",
      "source": [
        "# List of models & Performance (KWERE) (12 grams)\n",
        "  # act_model - 1.235 entropy (Batch size 250)\n",
        "  # act_model500 - 1.282 entropy (Batch size 500)\n",
        "  # act_model125 - 1.233 entropy (Batch size 125)\n",
        "  # act_model50 - 1.201 entropy (Batch size 50)"
      ],
      "metadata": {
        "id": "4UudaUAbfQDg"
      },
      "execution_count": 14,
      "outputs": []
    },
    {
      "cell_type": "code",
      "source": [
        "# List of models & Performance (SWAHILI) (6 grams)\n",
        "  # act_model - \n",
        "  # sw_act_model500 - 1.474 entropy (Batch size 500)\n",
        "  # act_model125 - \n",
        "  # act_model50 - "
      ],
      "metadata": {
        "id": "r-E11F-apqby"
      },
      "execution_count": 15,
      "outputs": []
    }
  ]
}