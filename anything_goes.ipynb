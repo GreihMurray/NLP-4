{
  "nbformat": 4,
  "nbformat_minor": 0,
  "metadata": {
    "colab": {
      "provenance": [],
      "collapsed_sections": [],
      "authorship_tag": "ABX9TyN5hzujNNkhaN8+EdJ6WMjB",
      "include_colab_link": true
    },
    "kernelspec": {
      "name": "python3",
      "display_name": "Python 3"
    },
    "language_info": {
      "name": "python"
    }
  },
  "cells": [
    {
      "cell_type": "markdown",
      "metadata": {
        "id": "view-in-github",
        "colab_type": "text"
      },
      "source": [
        "<a href=\"https://colab.research.google.com/github/GreihMurray/NLP-4/blob/master/anything_goes.ipynb\" target=\"_parent\"><img src=\"https://colab.research.google.com/assets/colab-badge.svg\" alt=\"Open In Colab\"/></a>"
      ]
    },
    {
      "cell_type": "code",
      "execution_count": 1,
      "metadata": {
        "id": "tbsVlxPxKnHT"
      },
      "outputs": [],
      "source": [
        "import numpy as np\n",
        "import pandas as pd\n",
        "from keras.utils import to_categorical\n",
        "from keras.models import Sequential\n",
        "import keras\n",
        "from keras.layers import LSTM, Dense, GRU, Embedding\n",
        "from keras.callbacks import EarlyStopping, ModelCheckpoint\n",
        "from sklearn.model_selection import train_test_split\n",
        "import tensorflow as tf\n",
        "from tqdm import tqdm\n",
        "from math import log2\n",
        "import json"
      ]
    },
    {
      "cell_type": "code",
      "source": [
        "from google.colab import drive\n",
        "\n",
        "drive.mount('/content/gdrive')"
      ],
      "metadata": {
        "colab": {
          "base_uri": "https://localhost:8080/"
        },
        "id": "yEtePjF8K85C",
        "outputId": "44940f42-c139-46f7-8b0c-2af8420d71ba"
      },
      "execution_count": 2,
      "outputs": [
        {
          "output_type": "stream",
          "name": "stdout",
          "text": [
            "Mounted at /content/gdrive\n"
          ]
        }
      ]
    },
    {
      "cell_type": "markdown",
      "source": [
        "Heavily based on https://www.analyticsvidhya.com/blog/2019/08/comprehensive-guide-language-model-nlp-python-code/#h2_7"
      ],
      "metadata": {
        "id": "Ljp9_IHfenhh"
      }
    },
    {
      "cell_type": "code",
      "source": [
        "def encode(grams, raw_data, loader=False):\n",
        "    chars = sorted(list(set(raw_data)))\n",
        "    mapping = dict((c, i) for i, c in enumerate(chars))\n",
        "\n",
        "    if loader == True:\n",
        "        with open('/content/gdrive/MyDrive/Colab_Notebooks/NLP/swahili/swmap.json') as infile:\n",
        "          mapping = json.load(infile) \n",
        "\n",
        "    sequences = list()\n",
        "    for line in tqdm(grams, desc='Encoding'):\n",
        "        # integer encode line\n",
        "        encoded_seq = [mapping[char] for char in line]\n",
        "        # store\n",
        "        sequences.append(encoded_seq)\n",
        "    return sequences, mapping"
      ],
      "metadata": {
        "id": "3hU8ifQOKsZ1"
      },
      "execution_count": 118,
      "outputs": []
    },
    {
      "cell_type": "markdown",
      "source": [
        "Based on code from https://www.analyticsvidhya.com/blog/2019/08/comprehensive-guide-language-model-nlp-python-code/#h2_7"
      ],
      "metadata": {
        "id": "B9gsORg7ergF"
      }
    },
    {
      "cell_type": "code",
      "source": [
        "def build_model(vocab):\n",
        "    model = Sequential()\n",
        "    model.add(Embedding(vocab, 20, input_length=GRAMS-1, trainable=True))\n",
        "    model.add(GRU(25, recurrent_dropout=0.1, dropout=0.1))\n",
        "    model.add(Dense(vocab, activation='softmax'))\n",
        "\n",
        "    model.compile(loss='categorical_crossentropy', metrics=['acc'], optimizer='adam')\n",
        "\n",
        "    return model"
      ],
      "metadata": {
        "id": "4MffHLMrKtsc"
      },
      "execution_count": 4,
      "outputs": []
    },
    {
      "cell_type": "markdown",
      "source": [
        "original"
      ],
      "metadata": {
        "id": "MxE5hjPTetSB"
      }
    },
    {
      "cell_type": "code",
      "source": [
        "def read_file(file_name):\n",
        "    f = open(file_name, \"r\")\n",
        "\n",
        "    full_text = f.read().split(\" \")\n",
        "    split_data = []\n",
        "\n",
        "    for line in full_text: #tqdm(full_text, desc='Splitting words'):\n",
        "        split_data.append(line.lower().strip())\n",
        "\n",
        "    train = ' '.join(split_data[:int(len(split_data) * 0.3)])\n",
        "    test = ' '.join(split_data[int(len(split_data) * 0.5):])\n",
        "\n",
        "    return train, test"
      ],
      "metadata": {
        "id": "cOiW3aNoK1Q_"
      },
      "execution_count": 5,
      "outputs": []
    },
    {
      "cell_type": "markdown",
      "source": [
        "original"
      ],
      "metadata": {
        "id": "8n6xm5Ezeuqu"
      }
    },
    {
      "cell_type": "code",
      "source": [
        "def read_test_data(file_name):\n",
        "    f = open(file_name, \"r\")\n",
        "\n",
        "    full_text = f.read().split(\" \")\n",
        "    split_data = []\n",
        "\n",
        "    for line in full_text: #tqdm(full_text, desc='Splitting words'):\n",
        "        split_data.append(line.lower().strip())\n",
        "\n",
        "    return ' '.join(split_data)"
      ],
      "metadata": {
        "id": "2bjtzkHoYPrg"
      },
      "execution_count": 6,
      "outputs": []
    },
    {
      "cell_type": "markdown",
      "source": [
        "original"
      ],
      "metadata": {
        "id": "zLqVB0kgev92"
      }
    },
    {
      "cell_type": "code",
      "source": [
        "def gen_n_grams(data, n=3):\n",
        "    descript = \"Generating \" + str(n) + \" Grams:\"\n",
        "\n",
        "    n_grams = [''.join(data[i:i+n]) for i in tqdm(range(len(data) - n + 1), desc=descript)]\n",
        "\n",
        "    return n_grams"
      ],
      "metadata": {
        "id": "0iqsefDGK40y"
      },
      "execution_count": 7,
      "outputs": []
    },
    {
      "cell_type": "code",
      "source": [
        "count = {}\n",
        "\n",
        "def main():\n",
        "    data, hold_out = read_file('/content/gdrive/MyDrive/Colab_Notebooks/NLP/swahili/cwe-train.txt')\n",
        "\n",
        "    n_grams = gen_n_grams(data, GRAMS)\n",
        "\n",
        "    for gram in tqdm(n_grams):\n",
        "      if gram in count.keys():\n",
        "        continue\n",
        "      count[gram] = n_grams.count(gram)\n",
        "\n",
        "    n_grams, mapping = encode(n_grams, data)\n",
        "\n",
        "    with open('/content/gdrive/MyDrive/Colab_Notebooks/NLP/swahili/cwmap.json', \"w\") as outfile:\n",
        "      json.dump(mapping, outfile)\n",
        "\n",
        "  # Below code from https://www.analyticsvidhya.com/blog/2019/08/comprehensive-guide-language-model-nlp-python-code/#h2_7\n",
        "    vocab = len(mapping)\n",
        "    sequences = np.array(n_grams)\n",
        "    # create X and y\n",
        "    x, y = sequences[:, :-1], sequences[:, -1]\n",
        "    # one hot encode y\n",
        "    y = to_categorical(y, num_classes=vocab)\n",
        "    # create train and validation sets\n",
        "    x_tr, x_val, y_tr, y_val = train_test_split(x, y, test_size=0.1, random_state=42)\n",
        "\n",
        "    print('Train shape:', x_tr.shape, 'Val shape:', x_val.shape)\n",
        "\n",
        "    model = build_model(vocab)\n",
        "\n",
        "  # Original addition\n",
        "    stop_early = tf.keras.callbacks.EarlyStopping(monitor='val_loss', patience=2)\n",
        "\n",
        "    model.fit(x_tr, y_tr, epochs=4, verbose=1, validation_data=(x_val, y_val), callbacks=stop_early, batch_size=125)\n",
        "    model.save('/content/gdrive/MyDrive/Colab_Notebooks/NLP/swahili/TESTMODEL')\n"
      ],
      "metadata": {
        "id": "T_2m3XwmKwSm"
      },
      "execution_count": 92,
      "outputs": []
    },
    {
      "cell_type": "code",
      "source": [
        "GRAMS = 6"
      ],
      "metadata": {
        "id": "wmxZN9ZdLO5z"
      },
      "execution_count": 119,
      "outputs": []
    },
    {
      "cell_type": "code",
      "source": [
        "main()"
      ],
      "metadata": {
        "colab": {
          "base_uri": "https://localhost:8080/",
          "height": 321
        },
        "id": "JMsCOFTvKzFn",
        "outputId": "415ea3c0-0ccc-4ff2-a2b5-c7cc1157e238"
      },
      "execution_count": 104,
      "outputs": [
        {
          "output_type": "stream",
          "name": "stderr",
          "text": [
            "Generating 10 Grams:: 100%|██████████| 181250/181250 [00:00<00:00, 985474.38it/s] \n",
            "  6%|▌         | 10192/181250 [00:46<12:56, 220.43it/s]\n"
          ]
        },
        {
          "output_type": "error",
          "ename": "KeyboardInterrupt",
          "evalue": "ignored",
          "traceback": [
            "\u001b[0;31m---------------------------------------------------------------------------\u001b[0m",
            "\u001b[0;31mKeyboardInterrupt\u001b[0m                         Traceback (most recent call last)",
            "\u001b[0;32m<ipython-input-104-263240bbee7e>\u001b[0m in \u001b[0;36m<module>\u001b[0;34m\u001b[0m\n\u001b[0;32m----> 1\u001b[0;31m \u001b[0mmain\u001b[0m\u001b[0;34m(\u001b[0m\u001b[0;34m)\u001b[0m\u001b[0;34m\u001b[0m\u001b[0;34m\u001b[0m\u001b[0m\n\u001b[0m",
            "\u001b[0;32m<ipython-input-92-4cda6a929618>\u001b[0m in \u001b[0;36mmain\u001b[0;34m()\u001b[0m\n\u001b[1;32m      9\u001b[0m       \u001b[0;32mif\u001b[0m \u001b[0mgram\u001b[0m \u001b[0;32min\u001b[0m \u001b[0mcount\u001b[0m\u001b[0;34m.\u001b[0m\u001b[0mkeys\u001b[0m\u001b[0;34m(\u001b[0m\u001b[0;34m)\u001b[0m\u001b[0;34m:\u001b[0m\u001b[0;34m\u001b[0m\u001b[0;34m\u001b[0m\u001b[0m\n\u001b[1;32m     10\u001b[0m         \u001b[0;32mcontinue\u001b[0m\u001b[0;34m\u001b[0m\u001b[0;34m\u001b[0m\u001b[0m\n\u001b[0;32m---> 11\u001b[0;31m       \u001b[0mcount\u001b[0m\u001b[0;34m[\u001b[0m\u001b[0mgram\u001b[0m\u001b[0;34m]\u001b[0m \u001b[0;34m=\u001b[0m \u001b[0mn_grams\u001b[0m\u001b[0;34m.\u001b[0m\u001b[0mcount\u001b[0m\u001b[0;34m(\u001b[0m\u001b[0mgram\u001b[0m\u001b[0;34m)\u001b[0m\u001b[0;34m\u001b[0m\u001b[0;34m\u001b[0m\u001b[0m\n\u001b[0m\u001b[1;32m     12\u001b[0m \u001b[0;34m\u001b[0m\u001b[0m\n\u001b[1;32m     13\u001b[0m     \u001b[0mn_grams\u001b[0m\u001b[0;34m,\u001b[0m \u001b[0mmapping\u001b[0m \u001b[0;34m=\u001b[0m \u001b[0mencode\u001b[0m\u001b[0;34m(\u001b[0m\u001b[0mn_grams\u001b[0m\u001b[0;34m,\u001b[0m \u001b[0mdata\u001b[0m\u001b[0;34m)\u001b[0m\u001b[0;34m\u001b[0m\u001b[0;34m\u001b[0m\u001b[0m\n",
            "\u001b[0;31mKeyboardInterrupt\u001b[0m: "
          ]
        }
      ]
    },
    {
      "cell_type": "markdown",
      "source": [
        "Original"
      ],
      "metadata": {
        "id": "Hi9nNZNoe4GD"
      }
    },
    {
      "cell_type": "code",
      "source": [
        "def calc_entropy(preds, mapping, sequences, vocab):\n",
        "    entropy = 0\n",
        "\n",
        "    count = 0\n",
        "    pred_len = len(preds)\n",
        "\n",
        "    keys = sequences[:, -1]\n",
        "\n",
        "    for i in range(0, len(sequences)):\n",
        "      entropy -= (1/(pred_len)) * log2(preds[i][keys[i]])\n",
        "\n",
        "    return entropy"
      ],
      "metadata": {
        "id": "FdaJ8Y9nb4lk"
      },
      "execution_count": 62,
      "outputs": []
    },
    {
      "cell_type": "markdown",
      "source": [
        "Original"
      ],
      "metadata": {
        "id": "qe4vrjL5e5hT"
      }
    },
    {
      "cell_type": "code",
      "source": [
        "def load_my_model():\n",
        "    model = keras.models.load_model('/content/gdrive/MyDrive/Colab_Notebooks/NLP/swahili/sw_act_model500')\n",
        "\n",
        "    data = read_test_data('/content/gdrive/MyDrive/Colab_Notebooks/NLP/swahili/sw-test.txt')\n",
        "\n",
        "    n_grams = gen_n_grams(data, GRAMS)\n",
        "    clean = n_grams\n",
        "    n_grams, mapping = encode(n_grams, data, loader=True)\n",
        "\n",
        "    vocab = len(mapping)\n",
        "    sequences = np.array(n_grams)\n",
        "\n",
        "    seqs = sequences[:,:-1]\n",
        "\n",
        "    preds = model.predict(seqs)\n",
        "\n",
        "    entropy = calc_entropy(preds, mapping, sequences, vocab)\n",
        "    print('\\n', entropy)\n",
        "    "
      ],
      "metadata": {
        "id": "n2e5zjJbX4Sw"
      },
      "execution_count": 120,
      "outputs": []
    },
    {
      "cell_type": "code",
      "source": [
        "load_my_model()"
      ],
      "metadata": {
        "id": "RWVPdo1DZaHx",
        "colab": {
          "base_uri": "https://localhost:8080/"
        },
        "outputId": "b49951ad-0f2b-49ee-e19e-846fd2ff85f5"
      },
      "execution_count": 121,
      "outputs": [
        {
          "output_type": "stream",
          "name": "stderr",
          "text": [
            "Generating 6 Grams:: 100%|██████████| 3451377/3451377 [00:03<00:00, 1109035.70it/s]\n",
            "Encoding: 100%|██████████| 3451377/3451377 [00:09<00:00, 371260.81it/s]\n"
          ]
        },
        {
          "output_type": "stream",
          "name": "stdout",
          "text": [
            "107856/107856 [==============================] - 284s 3ms/step\n",
            "\n",
            " 2.789063893279167\n"
          ]
        }
      ]
    },
    {
      "cell_type": "code",
      "source": [
        "print(count['san'])"
      ],
      "metadata": {
        "colab": {
          "base_uri": "https://localhost:8080/"
        },
        "id": "BU8gGMZQF5n1",
        "outputId": "b7c47d4b-3c8f-417e-cafd-1626c9b33a3b"
      },
      "execution_count": 102,
      "outputs": [
        {
          "output_type": "stream",
          "name": "stdout",
          "text": [
            "235\n"
          ]
        }
      ]
    },
    {
      "cell_type": "code",
      "source": [
        "# List of models & Performance (KWERE) (12 grams)\n",
        "  # act_model - 1.235 entropy (Batch size 250)\n",
        "  # act_model500 - 1.282 entropy (Batch size 500)\n",
        "  # act_model125 - 1.233 entropy (Batch size 125)\n",
        "  # act_model50 - 1.201 entropy (Batch size 50)"
      ],
      "metadata": {
        "id": "4UudaUAbfQDg"
      },
      "execution_count": null,
      "outputs": []
    },
    {
      "cell_type": "code",
      "source": [
        "# List of models & Performance (SWAHILI) (6 grams)\n",
        "  # act_model - \n",
        "  # sw_act_model500 - 1.474 entropy (Batch size 500)\n",
        "  # act_model125 - \n",
        "  # act_model50 - "
      ],
      "metadata": {
        "id": "r-E11F-apqby"
      },
      "execution_count": null,
      "outputs": []
    }
  ]
}